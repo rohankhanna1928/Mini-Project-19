{
  "nbformat": 4,
  "nbformat_minor": 0,
  "metadata": {
    "colab": {
      "provenance": [],
      "include_colab_link": true
    },
    "kernelspec": {
      "name": "python3",
      "display_name": "Python 3"
    },
    "language_info": {
      "name": "python"
    }
  },
  "cells": [
    {
      "cell_type": "markdown",
      "metadata": {
        "id": "view-in-github",
        "colab_type": "text"
      },
      "source": [
        "<a href=\"https://colab.research.google.com/github/rohankhanna1928/Mini-Project-19/blob/main/Mini_Project_19.ipynb\" target=\"_parent\"><img src=\"https://colab.research.google.com/assets/colab-badge.svg\" alt=\"Open In Colab\"/></a>"
      ]
    },
    {
      "cell_type": "markdown",
      "source": [
        "**Install Package**"
      ],
      "metadata": {
        "id": "xk19KL01MIBP"
      }
    },
    {
      "cell_type": "code",
      "execution_count": null,
      "metadata": {
        "id": "D6OJTrtHL-9K"
      },
      "outputs": [],
      "source": [
        "!sudo apt install tesseract-ocr\n",
        "!pip install pytesseract\n",
        "!pip install Pillow==9.0.0"
      ]
    },
    {
      "cell_type": "code",
      "source": [
        "from google.colab import files\n",
        "\n",
        "uploaded = files.upload()"
      ],
      "metadata": {
        "id": "OkBboANnMMoP"
      },
      "execution_count": null,
      "outputs": []
    },
    {
      "cell_type": "code",
      "source": [
        "import pytesseract\n",
        "from PIL import Image"
      ],
      "metadata": {
        "id": "lpknIPP5NKx6"
      },
      "execution_count": 2,
      "outputs": []
    },
    {
      "cell_type": "code",
      "source": [
        "extractedInformation = pytesseract.image_to_string(Image.open('/content/test2.png')) #Path of the given image"
      ],
      "metadata": {
        "id": "UGSzO5CLNdsV"
      },
      "execution_count": 3,
      "outputs": []
    },
    {
      "cell_type": "code",
      "source": [
        "print(extractedInformation)"
      ],
      "metadata": {
        "colab": {
          "base_uri": "https://localhost:8080/"
        },
        "id": "5kjOdeY-NiTW",
        "outputId": "49b27286-699b-4e8e-8269-bec84f794f54"
      },
      "execution_count": 4,
      "outputs": [
        {
          "output_type": "stream",
          "name": "stdout",
          "text": [
            "How does Computer Vision work?\n",
            "\n",
            "Acquiring an image\n",
            "\n",
            "Images, even large sets, can be acquired\n",
            "in real-time through video, photos or 3D\n",
            "technology for analysis.\n",
            "\n",
            "Processing the image\n",
            "\n",
            "Deep learning models automate much of\n",
            "this process, but the models are often\n",
            "trained by first being fed a thousand of\n",
            "labeled or pre-identified images.\n",
            "\n",
            "Understanding the image\n",
            "\n",
            "The final step is the interpretative step,\n",
            "where an object is identified or classified.\n",
            "\n",
            "V7 Labs\n",
            "\f\n"
          ]
        }
      ]
    }
  ]
}